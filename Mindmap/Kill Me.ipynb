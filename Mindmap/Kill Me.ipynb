{
 "cells": [
  {
   "cell_type": "code",
   "execution_count": 3,
   "metadata": {},
   "outputs": [
    {
     "name": "stdout",
     "output_type": "stream",
     "text": [
      "Element not found\n"
     ]
    }
   ],
   "source": [
    "from selenium import webdriver\n",
    "from selenium.webdriver.common.by import By\n",
    "from bs4 import BeautifulSoup\n",
    "\n",
    "# Set up the webdriver\n",
    "driver = webdriver.Chrome()\n",
    "\n",
    "# Navigate to the website\n",
    "driver.get(\"https://vahan.parivahan.gov.in/vahan4dashboard/vahan/view/reportview.xhtml\")\n",
    "\n",
    "# Get the HTML content\n",
    "html = driver.page_source\n",
    "\n",
    "# Parse the HTML content using BeautifulSoup\n",
    "soup = BeautifulSoup(html, 'html.parser')\n",
    "\n",
    "# Check if the element is present in the HTML\n",
    "if soup.find('table', {'id': 'groupingTable'}):\n",
    "    print(\"Element found\")\n",
    "else:\n",
    "    print(\"Element not found\")\n",
    "\n",
    "# Close the webdriver\n",
    "driver.quit()"
   ]
  }
 ],
 "metadata": {
  "kernelspec": {
   "display_name": "Python 3",
   "language": "python",
   "name": "python3"
  },
  "language_info": {
   "codemirror_mode": {
    "name": "ipython",
    "version": 3
   },
   "file_extension": ".py",
   "mimetype": "text/x-python",
   "name": "python",
   "nbconvert_exporter": "python",
   "pygments_lexer": "ipython3",
   "version": "3.12.4"
  }
 },
 "nbformat": 4,
 "nbformat_minor": 2
}
